{
 "cells": [
  {
   "cell_type": "markdown",
   "id": "cb086278",
   "metadata": {},
   "source": [
    "# A python solution to calculate Pv for pure substances using PR-EOS\n",
    "\n",
    "***\n",
    "**Note: Click on the `Cell` in the task bar above, then click on `Run All` to run the entire code**\n"
   ]
  },
  {
   "cell_type": "code",
   "execution_count": 1,
   "id": "9116d8c4",
   "metadata": {},
   "outputs": [],
   "source": [
    "import ipywidgets as widgets\n",
    "import pandas as pd\n",
    "import numpy as np\n",
    "from IPython.display import display, HTML, clear_output\n",
    "import math"
   ]
  },
  {
   "cell_type": "markdown",
   "id": "138479bd",
   "metadata": {},
   "source": [
    "## The cells below solves question 1\n",
    "Calculate the vapor pressure of propane together with the densities of the liquid and gas at 104°F.\n",
    "Compare your answers with values from Figures 2-7, 2-12, and 3-4 (McCain Jr., W.D. The\n",
    "Properties of Petroleum Fluids (2nd Edition). PennWell Publishing Company, Tulsa, OK, 1990.). "
   ]
  },
  {
   "cell_type": "markdown",
   "id": "3635823a",
   "metadata": {},
   "source": [
    "### Utility functions"
   ]
  },
  {
   "cell_type": "code",
   "execution_count": 2,
   "id": "7a265c4f",
   "metadata": {},
   "outputs": [],
   "source": [
    "# utility methods\n",
    "def convert_f_to_r(temp):\n",
    "    return temp + 459.67\n",
    "\n",
    "def calculate_tr(temp, temp_c):\n",
    "    converted_temp = convert_f_to_r(temp)\n",
    "    converted_temp_c = convert_f_to_r(temp_c)\n",
    "    return converted_temp / converted_temp_c\n",
    "\n",
    "def calculate_b(temp_c, pressure_c):\n",
    "    converted_temp_c = convert_f_to_r(temp_c)\n",
    "    return (0.07780 * ((10.732 * converted_temp_c) / (pressure_c)))\n",
    "\n",
    "def calculate_ac(temp_c, pressure_c):\n",
    "    converted_temp_c = convert_f_to_r(temp_c)\n",
    "    return (0.45724 * ((10.732 ** 2)* (converted_temp_c ** 2)) / pressure_c)\n",
    "\n",
    "def calculate_alpha(w, temp, temp_c):\n",
    "    tr = calculate_tr(temp, temp_c)\n",
    "    alpha_half = 1 + (0.37464 + (1.54226 * w) - (0.26992 * (w ** 2))) * (1 - (tr ** 0.5))\n",
    "    return alpha_half ** 2\n",
    "\n",
    "def calculate_at(ac, alpha):\n",
    "    return ac * alpha\n",
    "\n",
    "# Trial section functions\n",
    "def calculate_A(aT, trial_pressure, sys_temp):\n",
    "    temp = convert_f_to_r(sys_temp)\n",
    "    return (aT * trial_pressure) / ((10.732 ** 2) * (temp ** 2))\n",
    "\n",
    "def calculate_B(b, trial_pressure, sys_temp):\n",
    "    temp = convert_f_to_r(sys_temp)\n",
    "    return (b * trial_pressure) / (10.732 * temp)\n",
    "\n",
    "def cubic_root_calculation_for_PR_EOS(A, B):\n",
    "    # define coefficents\n",
    "    a = 1\n",
    "    b = -(1 - B)\n",
    "    c = (A - (2*B) - (3*(B ** 2)))\n",
    "    d = -((A*B) - (B**2) - (B**3))\n",
    "    \n",
    "    coefs = [a, b, c, d]\n",
    "    roots = np.roots(coefs)\n",
    "    # check for complex numbera and get the real part\n",
    "    new_roots = []\n",
    "    for number in roots:\n",
    "        new_roots.append(number.real)\n",
    "    \n",
    "    return new_roots\n",
    "\n",
    "def get_highest_and_lowest_root(roots):\n",
    "    try:\n",
    "        if type(roots) != list:\n",
    "            raise Exception('The roots have to be a list')\n",
    "        else:\n",
    "            lowest = min(roots)\n",
    "            highest = max(roots)\n",
    "            return { \"zg\": highest, \"zl\": lowest }\n",
    "    except Exception as error:\n",
    "        text = f\"<div style='color:red'>{error}</div>\"\n",
    "        display(HTML(text))\n",
    "            \n",
    "\n",
    "def solve_for_fg_fl(z, B, A, trial_pressure):\n",
    "    z = z\n",
    "    B = B\n",
    "    A = A\n",
    "    p = trial_pressure\n",
    "    first_part = math.log(z - B)\n",
    "    second_part = (A / ((2**1.5)*B))\n",
    "    numerator = (z + (((2**0.5) + 1) * B))\n",
    "    denominator = (z - (((2**0.5) - 1) * B))\n",
    "    log_part = math.log(numerator / denominator)\n",
    "    f_value = math.exp(z - 1 - first_part - (second_part * log_part)) * trial_pressure\n",
    "    \n",
    "    return f_value\n",
    "\n",
    "def render_table(data, title, transpose=False, change_indexing_id=False, new_index=\"S/N\"):\n",
    "    df = pd.DataFrame(data)\n",
    "    if change_indexing_id:\n",
    "        df.set_index(new_index, inplace=True)\n",
    "    display(df)\n",
    "    return df"
   ]
  },
  {
   "cell_type": "markdown",
   "id": "06c2454a",
   "metadata": {},
   "source": [
    "### Working data for question one\n",
    "This will contain the list of species to be considered, their critical properties and acentric factor"
   ]
  },
  {
   "cell_type": "code",
   "execution_count": 3,
   "id": "d10d655f",
   "metadata": {},
   "outputs": [],
   "source": [
    "# working data question 1\n",
    "species_list = {\n",
    "    \"1\": { \"name\": \"iso-butane\", \"pc\": 527.9, \"tc\": 274.46, \"w\": 0.1852 },\n",
    "    \"2\": { \"name\": \"propane\", \"pc\": 616.0, \"tc\": 206.06, \"w\": 0.1522 }\n",
    "}"
   ]
  },
  {
   "cell_type": "markdown",
   "id": "a993d8b9",
   "metadata": {},
   "source": [
    "### Widgets and interaction"
   ]
  },
  {
   "cell_type": "code",
   "execution_count": 4,
   "id": "268b925e",
   "metadata": {},
   "outputs": [
    {
     "data": {
      "application/vnd.jupyter.widget-view+json": {
       "model_id": "f19f38e8cd28492885d0eb67c095e706",
       "version_major": 2,
       "version_minor": 0
      },
      "text/plain": [
       "HTML(value='<h2>Select the species and input the temperature</h2>')"
      ]
     },
     "metadata": {},
     "output_type": "display_data"
    },
    {
     "data": {
      "application/vnd.jupyter.widget-view+json": {
       "model_id": "16cd514ea5aa4ccbba269d75070f5357",
       "version_major": 2,
       "version_minor": 0
      },
      "text/plain": [
       "interactive(children=(FloatText(value=104.0, description='Farenheit', layout=Layout(margin='10px 0px 10px 10px…"
      ]
     },
     "metadata": {},
     "output_type": "display_data"
    }
   ],
   "source": [
    "# Create some widgets\n",
    "title = widgets.HTML(\n",
    "    value=\"<h2>Select the species and input the temperature</h2>\"\n",
    ")\n",
    "temperature = widgets.FloatText(\n",
    "    value=\"104\", \n",
    "    description=\"Farenheit\", \n",
    "    layout={'width': '25%', 'margin': '10px 0px 10px 10px'},\n",
    ")\n",
    "pressure_widget = widgets.FloatText(\n",
    "    value=\"100\", \n",
    "    min=14.7, \n",
    "    description=\"psia\", \n",
    "    layout={'width': '25%', 'margin': '10px 0px 10px 10px'},\n",
    ")\n",
    "\n",
    "# loop through to key for the dropdown options\n",
    "dropdown_options = [(value[\"name\"], int(key)) for key, value in species_list.items()]\n",
    "\n",
    "# specie dropdown\n",
    "specie_dropdown = widgets.Dropdown(\n",
    "    options=dropdown_options,\n",
    "    value=2,\n",
    "    description='Specie', \n",
    "    layout={'width': '25%', 'margin': '10px 0px 10px 10px'},\n",
    ")\n",
    "\n",
    "# interact with widgets\n",
    "def on_value_change(sys_temp, specie, initial_trial_pressure):\n",
    "    selected_specie = species_list[f\"{specie}\"]\n",
    "    pc = selected_specie['pc']\n",
    "    tc = selected_specie['tc']\n",
    "    tr = round(calculate_tr(sys_temp, tc), 5)\n",
    "    b = round(calculate_b(tc, pc), 4)\n",
    "    ac = round(calculate_ac(tc, pc), 0)\n",
    "    w = selected_specie['w']\n",
    "    alpha = round(calculate_alpha(w, sys_temp, tc), 4)\n",
    "    aT = round(calculate_at(ac, alpha), 0)\n",
    "    \n",
    "#     create table for the initially calculated values\n",
    "    initial_calulated_values = {\n",
    "        \"Tr\": [tr],\n",
    "        \"b\": [b],\n",
    "        \"ac\": [ac],\n",
    "        \"alpha\": [alpha],\n",
    "        \"at\": [aT]\n",
    "    }\n",
    "    \n",
    "    render_table(initial_calulated_values, 'PR-EOS REQUIRED COEFFICIENTS')\n",
    "    \n",
    "#     iteration code\n",
    "    iteration_table_data = {\n",
    "        \"z1\": [],\n",
    "        \"z2\": [],\n",
    "        \"z3\": [],\n",
    "        \"zg\": [],\n",
    "        \"zl\": [],\n",
    "        \"fg\": [],\n",
    "        \"fl\": [],\n",
    "        \"fg - fl\": [],\n",
    "        \"pressure\": [],\n",
    "        \"Vmg\": [],\n",
    "        \"Vml\": [],\n",
    "    }\n",
    "    \n",
    "    fg = 0\n",
    "    fl = 1000\n",
    "    pressure = initial_trial_pressure\n",
    "    tolerance = 0.1\n",
    "    while abs(fg - fl) >= tolerance:\n",
    "        A = round(calculate_A(aT, pressure, sys_temp), 5)\n",
    "        B = round(calculate_B(b, pressure, sys_temp), 6)\n",
    "        roots = cubic_root_calculation_for_PR_EOS(A, B)\n",
    "\n",
    "        iteration_table_data[\"z1\"].append(roots[0])\n",
    "        iteration_table_data[\"z2\"].append(roots[1])\n",
    "        iteration_table_data[\"z3\"].append(roots[2])\n",
    "\n",
    "        z_values = get_highest_and_lowest_root(roots)\n",
    "        iteration_table_data[\"zg\"].append(z_values[\"zg\"])\n",
    "        iteration_table_data[\"zl\"].append(z_values[\"zl\"])\n",
    "\n",
    "        fg = solve_for_fg_fl(z_values[\"zg\"], B, A, pressure)\n",
    "        fl = solve_for_fg_fl(z_values[\"zl\"], B, A, pressure)\n",
    "        iteration_table_data[\"fg\"].append(fg)\n",
    "        iteration_table_data[\"fl\"].append(fl)\n",
    "        \n",
    "        iteration_table_data[\"pressure\"].append(pressure)\n",
    "        iteration_table_data[\"fg - fl\"].append(abs(fg - fl))\n",
    "        \n",
    "        Vmg = (z_values[\"zg\"] * 10.732 * convert_f_to_r(sys_temp)) / pressure\n",
    "        Vml = (z_values[\"zl\"] * 10.732 * convert_f_to_r(sys_temp)) / pressure\n",
    "        iteration_table_data[\"Vmg\"].append(Vmg)\n",
    "        iteration_table_data[\"Vml\"].append(Vml)\n",
    "        \n",
    "        pressure = pressure + 0.01\n",
    "        \n",
    "    iteration_table = render_table(iteration_table_data, \"ITERATION RESULTS\")\n",
    "    render_table(iteration_table.tail(1), 'FINAL RESULTS', True)\n",
    "    \n",
    "    \n",
    "# Display widgets    \n",
    "display(title)\n",
    "trap_return = widgets.interact(on_value_change, sys_temp=temperature, specie=specie_dropdown, initial_trial_pressure=pressure_widget)"
   ]
  },
  {
   "cell_type": "markdown",
   "id": "82c68578",
   "metadata": {},
   "source": [
    "## The cells below solves question 2\n",
    "\n",
    "Calculate the compositions and densities of the equilibrium liquid and gas of the mixture given\n",
    "below at 160°F and 2000 psia. Use binary interaction coefficients of 0.021 for methane-n-butane,\n",
    "0.032 for methane-n-decane, and 0.0 for n-butane-n-decane. The pre-specified tolerance is for 0.098.\n",
    "Note: The first trial must be done manually; then use your own coded program to perform the\n",
    "necessary iterations. \n",
    "\n",
    "|Component| Composition, mole fraction|\n",
    "|----|----|\n",
    "|Methane| 0.5523|\n",
    "|n-Butane| 0.3630|\n",
    "|n-Decane| 0.0838|\n",
    "||1.0000| "
   ]
  },
  {
   "cell_type": "markdown",
   "id": "a045ade9",
   "metadata": {},
   "source": [
    "### Working data for question 2"
   ]
  },
  {
   "cell_type": "code",
   "execution_count": 5,
   "id": "e2951f20",
   "metadata": {},
   "outputs": [],
   "source": [
    "# working data question 2\n",
    "mixtures = {\n",
    "    \"example\": [\n",
    "        {\"component\": \"c1\", \"name\": \"Methane\", \"x\": 0.5301, \"tc\": -116.67, \"pc\": 666.4, \"w\": 0.0104},\n",
    "        {\"component\": \"n-c4\", \"name\": \"n-Butane\", \"x\": 0.1055, \"tc\": 305.63, \"pc\": 550.6, \"w\": 0.1995},\n",
    "        {\"component\": \"n-c10\", \"name\": \"n-Decane\", \"x\": 0.3644, \"tc\": 652.03, \"pc\": 305.2, \"w\": 0.4894},\n",
    "    ],\n",
    "    \"assignment\": [\n",
    "        {\"component\": \"c1\", \"name\": \"Methane\", \"x\": 0.5523, \"tc\": -116.67, \"pc\": 666.4, \"w\": 0.0104},\n",
    "        {\"component\": \"n-c4\", \"name\": \"n-Butane\", \"x\": 0.3630, \"tc\": 305.63, \"pc\": 550.6, \"w\": 0.1995},\n",
    "        {\"component\": \"n-c10\", \"name\": \"n-Decane\", \"x\": 0.0838, \"tc\": 652.03, \"pc\": 305.2, \"w\": 0.4894}\n",
    "    ]\n",
    "}"
   ]
  },
  {
   "cell_type": "markdown",
   "id": "1b904ccf",
   "metadata": {},
   "source": [
    "### Calculate the coefficients of the components in the mixture"
   ]
  },
  {
   "cell_type": "code",
   "execution_count": 14,
   "id": "ca4dfd6e",
   "metadata": {
    "scrolled": false
   },
   "outputs": [
    {
     "data": {
      "application/vnd.jupyter.widget-view+json": {
       "model_id": "2de284d05f2e44bd82dc182e74648311",
       "version_major": 2,
       "version_minor": 0
      },
      "text/plain": [
       "HTML(value='<h2>Select the mixture and input the temperature</h2>')"
      ]
     },
     "metadata": {},
     "output_type": "display_data"
    },
    {
     "data": {
      "application/vnd.jupyter.widget-view+json": {
       "model_id": "51f0430bb1c74cd282ef4a916962b4cb",
       "version_major": 2,
       "version_minor": 0
      },
      "text/plain": [
       "interactive(children=(Dropdown(description='Mixture', layout=Layout(margin='10px 0px 10px 10px', width='25%'),…"
      ]
     },
     "metadata": {},
     "output_type": "display_data"
    },
    {
     "data": {
      "application/vnd.jupyter.widget-view+json": {
       "model_id": "5903e92ac4964a70bee786c5fa1a1a69",
       "version_major": 2,
       "version_minor": 0
      },
      "text/plain": [
       "interactive(children=(FloatText(value=0.0, description='k-c1', layout=Layout(margin='10px 0px 10px 10px', widt…"
      ]
     },
     "metadata": {},
     "output_type": "display_data"
    }
   ],
   "source": [
    "# The currently selected mixture and its default\n",
    "current_mixture = []\n",
    "\n",
    "title_2 = widgets.HTML(\n",
    "    value=\"<h2>Select the mixture and input the temperature</h2>\"\n",
    ")\n",
    "display(title_2)\n",
    "\n",
    "temperature_2 = widgets.FloatText(\n",
    "    value=\"160\", \n",
    "    description=\"Farenheit\", \n",
    "    layout={'width': '25%', 'margin': '10px 0px 10px 10px'},\n",
    ")\n",
    "\n",
    "\n",
    "mixture_dropdown_options = [(value, index) for index, value in enumerate(mixtures.keys())]\n",
    "# mixture dropdown\n",
    "mixture_dropdown = widgets.Dropdown(\n",
    "    options=mixture_dropdown_options,\n",
    "    value=0,\n",
    "    description='Mixture', \n",
    "    layout={'width': '25%', 'margin': '10px 0px 10px 10px'},\n",
    ")\n",
    "\n",
    "# define the default for the current selected mixture from the dropdown\n",
    "current_mixture = mixtures[list(mixtures.keys())[mixture_dropdown.value]]\n",
    "\n",
    "\n",
    "@widgets.interact(mixture=mixture_dropdown, sys_temp=temperature_2)\n",
    "def on_mixture_temp_change(mixture, sys_temp):\n",
    "    current_mixture = mixtures[list(mixtures.keys())[mixture]]\n",
    "    \n",
    "    for component in current_mixture:\n",
    "        pc = component['pc']\n",
    "        tc = component['tc']\n",
    "        w = component['w']\n",
    "        tr = round(calculate_tr(sys_temp, tc), 5)\n",
    "        component['tr'] = tr\n",
    "        b = round(calculate_b(tc, pc), 4)\n",
    "        component['b'] = b\n",
    "        ac = round(calculate_ac(tc, pc), 0)\n",
    "        component['ac'] = ac\n",
    "        alpha = round(calculate_alpha(w, sys_temp, tc), 4)\n",
    "        component['alpha'] = alpha\n",
    "        aT = round(calculate_at(ac, alpha), 0)\n",
    "        component['aT'] = aT\n",
    "        \n",
    "    render_table(current_mixture, \"PR-EOS REQUIRED COEFFICIENTS\", False, True, 'component')\n",
    "\n",
    "    \n",
    "def handle_dynamic_widget_change(**args):\n",
    "    for component in current_mixture:\n",
    "        for arg, value in args.items():\n",
    "            if component['component'] == arg:\n",
    "                component['K'] = value\n",
    "        render_table(current_mixture, \"PR-EOS REQUIRED COEFFICIENTS\", False, True, 'component')\n",
    "    \n",
    "    \n",
    "# dynamic widgets\n",
    "dyn_widget_dict = {f\"{component['component']}\": widgets.FloatText(value=\"0\", description=f\"k-{component['component']}\", layout={'width': '25%', 'margin': '10px 0px 10px 10px'}) for component in current_mixture}\n",
    "dyn_widget_args = [dyn_widget_dict[key] for key in dyn_widget_dict]\n",
    "\n",
    "interactive_widgets = widgets.interactive(handle_dynamic_widget_change, **dyn_widget_dict)\n",
    "for arg in dyn_widget_args:\n",
    "    arg.observe(lambda change: interactive_widgets.update(), 'value')\n",
    "\n",
    "display(interactive_widgets)\n"
   ]
  }
 ],
 "metadata": {
  "kernelspec": {
   "display_name": "Python 3 (ipykernel)",
   "language": "python",
   "name": "python3"
  },
  "language_info": {
   "codemirror_mode": {
    "name": "ipython",
    "version": 3
   },
   "file_extension": ".py",
   "mimetype": "text/x-python",
   "name": "python",
   "nbconvert_exporter": "python",
   "pygments_lexer": "ipython3",
   "version": "3.9.13"
  }
 },
 "nbformat": 4,
 "nbformat_minor": 5
}
