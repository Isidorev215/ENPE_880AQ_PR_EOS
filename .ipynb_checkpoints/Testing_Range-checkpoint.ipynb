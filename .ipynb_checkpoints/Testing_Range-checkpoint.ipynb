{
 "cells": [
  {
   "cell_type": "code",
   "execution_count": 1,
   "id": "f73cc0a5",
   "metadata": {},
   "outputs": [],
   "source": [
    "import openpyxl as xl"
   ]
  },
  {
   "cell_type": "code",
   "execution_count": 3,
   "id": "ed0d06cc",
   "metadata": {},
   "outputs": [
    {
     "name": "stdout",
     "output_type": "stream",
     "text": [
      "('C1', 1.0, 0.0)\n",
      "('C2', 2.0, 0.0)\n",
      "('C3', 3.0, 0.0)\n"
     ]
    }
   ],
   "source": [
    "wb = xl.load_workbook('Assignment_2.xlsx')\n",
    "sheet = wb['For_assignment_two']\n",
    "\n",
    "for row in sheet.iter_rows(min_row=2, max_row=4, min_col=1, max_col=3, values_only=True):\n",
    "    print(row)"
   ]
  }
 ],
 "metadata": {
  "kernelspec": {
   "display_name": "Python 3 (ipykernel)",
   "language": "python",
   "name": "python3"
  },
  "language_info": {
   "codemirror_mode": {
    "name": "ipython",
    "version": 3
   },
   "file_extension": ".py",
   "mimetype": "text/x-python",
   "name": "python",
   "nbconvert_exporter": "python",
   "pygments_lexer": "ipython3",
   "version": "3.9.13"
  }
 },
 "nbformat": 4,
 "nbformat_minor": 5
}
