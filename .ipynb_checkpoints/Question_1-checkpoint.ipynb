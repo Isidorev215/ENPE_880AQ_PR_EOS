{
 "cells": [
  {
   "cell_type": "markdown",
   "id": "d419213d",
   "metadata": {},
   "source": [
    "# A python solution to calculate Pv for pure substances using PR-EOS\n",
    "\n",
    "***\n",
    "**Note: Click on the `Cell` in the task bar above, then click on `Run All` to run the entire code**\n",
    "---\n",
    "**If you open this on myBinder, then click on `Run` above and then click on `Run all cells`**\n"
   ]
  },
  {
   "cell_type": "code",
   "execution_count": 1,
   "id": "a82dc362",
   "metadata": {},
   "outputs": [],
   "source": [
    "import ipywidgets as widgets\n",
    "import pandas as pd\n",
    "from IPython.display import display, HTML, Markdown\n",
    "import math\n",
    "import copy\n",
    "from functools import reduce\n",
    "\n",
    "from library import render_table, render_multi_index_2D_table\n",
    "import util"
   ]
  },
  {
   "cell_type": "markdown",
   "id": "fd048555",
   "metadata": {},
   "source": [
    "## The cells below solves question 1\n",
    "Calculate the vapor pressure of propane together with the densities of the liquid and gas at 104°F.\n",
    "Compare your answers with values from Figures 2-7, 2-12, and 3-4 (McCain Jr., W.D. The\n",
    "Properties of Petroleum Fluids (2nd Edition). PennWell Publishing Company, Tulsa, OK, 1990.). "
   ]
  },
  {
   "cell_type": "markdown",
   "id": "ff91c1cb",
   "metadata": {},
   "source": [
    "### Working data for question one\n",
    "This will contain the list of species to be considered, their critical properties and acentric factor"
   ]
  },
  {
   "cell_type": "code",
   "execution_count": 2,
   "id": "68c3ce3c",
   "metadata": {},
   "outputs": [],
   "source": [
    "# temperatures are in °F and need to be converted to °R\n",
    "specie = { \"name\": \"propane\", \"pc\": 616.0, \"tc\": util.to_rankine(206.06, \"f\"), \"w\": 0.1522, \"Mw\": 49.097 }\n",
    "chart_data = { \"zg\": [0.75], \"zl\": [0.05], \"pressure\": [200], \"ρg\": [0.03], \"ρl\": [0.475] }"
   ]
  },
  {
   "cell_type": "code",
   "execution_count": 3,
   "id": "491bd593",
   "metadata": {},
   "outputs": [
    {
     "data": {
      "application/vnd.jupyter.widget-view+json": {
       "model_id": "17dfddd2f7f2449384912b0a291580a1",
       "version_major": 2,
       "version_minor": 0
      },
      "text/plain": [
       "interactive(children=(FloatText(value=104.0, description='Farenheit', layout=Layout(margin='10px 0px 10px 10px…"
      ]
     },
     "metadata": {},
     "output_type": "display_data"
    }
   ],
   "source": [
    "# Some widgets\n",
    "temperature = widgets.FloatText(\n",
    "    value=\"104\", \n",
    "    description=\"Farenheit\", \n",
    "    layout={'width': '25%', 'margin': '10px 0px 10px 10px'},\n",
    ")\n",
    "pressure_widget = widgets.FloatText(\n",
    "    value=\"100\", \n",
    "    min=14.7, \n",
    "    description=\"psia\", \n",
    "    layout={'width': '25%', 'margin': '10px 0px 10px 10px'},\n",
    ")\n",
    "\n",
    "# interact with widgets\n",
    "def on_value_change(sys_temp, initial_trial_pressure):\n",
    "    temp = util.to_rankine(sys_temp, 'f')\n",
    "    \n",
    "    selected_specie = specie\n",
    "    pc = selected_specie['pc']\n",
    "    tc = selected_specie['tc']\n",
    "    tr = util.calculate_tr(temp, tc)\n",
    "    b = util.calculate_b(tc, pc)\n",
    "    ac = util.calculate_ac(tc, pc)\n",
    "    w = selected_specie['w']\n",
    "    alpha = util.calculate_alpha(w, temp, tc)\n",
    "    aT = util.calculate_at(ac, alpha)\n",
    "    \n",
    "#     create table for the initially calculated values\n",
    "    initial_calulated_values = {\"Tr\": [tr],\"b\": [b], \"ac\": [ac], \"alpha\": [alpha], \"at\": [aT] }\n",
    "    display(HTML('<h3>PR-EOS REQUIRED COEFFICIENTS</h3>'))\n",
    "    display(pd.DataFrame(initial_calulated_values))\n",
    "    \n",
    "#     iteration code begins\n",
    "    iteration_table_data = {\"zg\": [],\"zl\": [],\"fg\": [],\"fl\": [],\"fg - fl\": [],\"pressure\": [],\"Vmg\": [],\"Vml\": [],\"ρg\": [],\"ρl\": [],}\n",
    "    \n",
    "    fg = 0\n",
    "    fl = 1000\n",
    "    pressure = initial_trial_pressure\n",
    "    tolerance = 0.01\n",
    "    while abs(fg - fl) >= tolerance:\n",
    "        A = round(util.calculate_A(aT, pressure, temp), 5)\n",
    "        B = round(util.calculate_B(b, pressure, temp), 6)\n",
    "        roots = util.cubic_root_calculation_for_PR_EOS(A, B)\n",
    "\n",
    "        z_gas = util.get_highest_or_lowest_root(roots, 'gas')\n",
    "        z_liquid = util.get_highest_or_lowest_root(roots, 'liquid')\n",
    "        iteration_table_data[\"zg\"].append(round(z_gas, 4))\n",
    "        iteration_table_data[\"zl\"].append(round(z_liquid, 4))\n",
    "\n",
    "        fg = util.solve_for_fg_fl(z_gas, B, A, pressure)\n",
    "        fl = util.solve_for_fg_fl(z_liquid, B, A, pressure)\n",
    "        iteration_table_data[\"fg\"].append(round(fg, 4))\n",
    "        iteration_table_data[\"fl\"].append(round(fl, 4))\n",
    "        \n",
    "        iteration_table_data[\"pressure\"].append(round(pressure, 4))\n",
    "        iteration_table_data[\"fg - fl\"].append(round(abs(fg - fl), 4))\n",
    "        \n",
    "        Vmg = (z_gas * 10.732 * temp) / pressure\n",
    "        Vml = (z_liquid * 10.732 * temp) / pressure\n",
    "        iteration_table_data[\"Vmg\"].append(round(Vmg, 4))\n",
    "        iteration_table_data[\"Vml\"].append(round(Vml, 4))\n",
    "        \n",
    "        den_g = ( (pressure * selected_specie[\"Mw\"]) / (z_gas * 10.73 * temp)) / 62.42796\n",
    "        iteration_table_data[\"ρg\"] = den_g\n",
    "        \n",
    "        den_l = ( (pressure * selected_specie[\"Mw\"]) / (z_liquid * 10.73 * temp)) / 62.42796\n",
    "        iteration_table_data[\"ρl\"] = den_l\n",
    "        \n",
    "        pressure = pressure + 0.01\n",
    "     \n",
    "    \n",
    "    display(HTML('<h3>The Iteration results</h3>'))\n",
    "    iteration_df = pd.DataFrame(iteration_table_data)\n",
    "    display(iteration_df)\n",
    "    calculated_data = iteration_df.tail(1)\n",
    "    display(HTML('<h3>Calculated results</h3>'))\n",
    "    display(calculated_data)\n",
    "    display(HTML('<h3>Reading from the charts</h3>'))\n",
    "    display(pd.DataFrame(chart_data))\n",
    "    \n",
    "    \n",
    "    \n",
    "# Display widgets \n",
    "trap_return = widgets.interact(\n",
    "    on_value_change, \n",
    "    sys_temp=temperature, \n",
    "    initial_trial_pressure=pressure_widget\n",
    ")"
   ]
  }
 ],
 "metadata": {
  "kernelspec": {
   "display_name": "Python 3 (ipykernel)",
   "language": "python",
   "name": "python3"
  },
  "language_info": {
   "codemirror_mode": {
    "name": "ipython",
    "version": 3
   },
   "file_extension": ".py",
   "mimetype": "text/x-python",
   "name": "python",
   "nbconvert_exporter": "python",
   "pygments_lexer": "ipython3",
   "version": "3.9.12"
  }
 },
 "nbformat": 4,
 "nbformat_minor": 5
}
