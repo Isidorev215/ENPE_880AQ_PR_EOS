{
 "cells": [
  {
   "cell_type": "markdown",
   "id": "56634e51",
   "metadata": {},
   "source": [
    "# Links of Assignment questions"
   ]
  },
  {
   "cell_type": "markdown",
   "id": "22bbb31e",
   "metadata": {},
   "source": [
    "\n",
    "* [Question 1](Question_1.ipynb)\n",
    "* [Question 2](Question_2.ipynb)\n",
    "* [Question 3](Question_3.ipynb)"
   ]
  }
 ],
 "metadata": {
  "kernelspec": {
   "display_name": "Python 3 (ipykernel)",
   "language": "python",
   "name": "python3"
  },
  "language_info": {
   "codemirror_mode": {
    "name": "ipython",
    "version": 3
   },
   "file_extension": ".py",
   "mimetype": "text/x-python",
   "name": "python",
   "nbconvert_exporter": "python",
   "pygments_lexer": "ipython3",
   "version": "3.9.13"
  }
 },
 "nbformat": 4,
 "nbformat_minor": 5
}
